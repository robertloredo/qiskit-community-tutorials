{
 "cells": [
  {
   "cell_type": "markdown",
   "metadata": {},
   "source": [
    "## Challenge 1: Break the Bank - Las Vegas\n",
    "\n",
    "* Author: Robert Loredo\n",
    "* Date Created: October 2018\n",
    "* Revised: March 2020\n",
    "* Level: Easy\n",
    "\n",
    "\n",
    "Your objective in this project, should you choose to accept it, is for you and your team to play dice at a Las Vegas casino and win... every time! \n",
    "\n",
    "How? By creating a pair of quantum dice!\n",
    "\n",
    "### The Plan\n",
    "\n",
    "In order for this to work, you will need to create at least two entangled dice. However, be sure that you entangle them in a way that security teams won't figure it out and catch you before you make your big move! \n",
    "\n",
    "Ideally you want the dice to provide enough information to you without anyone figuring out what happened. You can do this by ensuring that the entangled dice not roll out the same entangled result each time, but rather different results. \n",
    "\n",
    "For example: \n",
    "If all of your dice roll the same values, it would be too obvious: Dice 1 = 101, Dice 2 = 101 (Where each entangled die is at a different table)\n",
    "\n",
    "If all your dice roll different yet with expected values, that would not be too obvious, for example: Dice 1 = 101, Dice 2 = 010. This would be perfect, not easily detected yet as you can see by the results, perfectly entangled.\n",
    "\n",
    "\n",
    "### Let's get to work!\n",
    "You're team will occupy two tables. The first table we will call the 'source', and the other tables we will call the 'target'. The plan is to have your team at the source table, and you at the target table. \n",
    "\n",
    "You will then bet according to the results of the roll of the dice of the team at the Source table. \n",
    "So if the source table rolls a '010' (2), then because your dice are entangled with the Source dice, you will roll the opposite (binary digits), '101' (5). \n",
    "\n",
    "This is why we want to ensure that the values are opposite, so that casino security won't think there is anything wrong, wheras if both dice are entangled resulting in the same value each. \n",
    "\n",
    "\n",
    "The next steps here are to \"program\" your entangled dice. **Good luck!**"
   ]
  },
  {
   "cell_type": "code",
   "execution_count": 2,
   "metadata": {},
   "outputs": [],
   "source": [
    "# begin by importing the essential libraries from qiskit\n",
    "from qiskit import IBMQ, Aer\n",
    "from qiskit import ClassicalRegister, QuantumRegister, QuantumCircuit\n",
    "\n",
    "# The following options are recomended for Jupter notebook visualization using matplotlib\n",
    "%matplotlib inline"
   ]
  },
  {
   "cell_type": "markdown",
   "metadata": {},
   "source": [
    "Now let's create the circuit to implement and visualize the quantum circuit needed to create the entangled dice.\n",
    "In this example, to keep things simple, we will create an 8-sided die with binary values 0-7. "
   ]
  },
  {
   "cell_type": "code",
   "execution_count": 3,
   "metadata": {},
   "outputs": [],
   "source": [
    "# set up Quantum Register and Classical Register for 3 qubits (binary values 000 -> 111)\n",
    "q = QuantumRegister(3)\n",
    "c = ClassicalRegister(3)\n",
    "# Create a Quantum Circuit\n",
    "qc = QuantumCircuit(q, c)"
   ]
  },
  {
   "cell_type": "code",
   "execution_count": 4,
   "metadata": {},
   "outputs": [
    {
     "data": {
      "text/plain": [
       "<qiskit.circuit.instructionset.InstructionSet at 0x1a1f0c3940>"
      ]
     },
     "execution_count": 4,
     "metadata": {},
     "output_type": "execute_result"
    }
   ],
   "source": [
    "# now let's set our source die into superposition and measure\n",
    "# so to simulate random die values 0-7, or 1-8 since we dice do not have a 0 value. \n",
    "# Note: the 'barrier' is there just so the circuit displays well, it has no effect on the circuit itself.\n",
    "qc.h(q)\n",
    "qc.barrier(q)\n",
    "qc.measure(q, c)"
   ]
  },
  {
   "cell_type": "code",
   "execution_count": 5,
   "metadata": {},
   "outputs": [
    {
     "name": "stdout",
     "output_type": "stream",
     "text": [
      "OPENQASM 2.0;\n",
      "include \"qelib1.inc\";\n",
      "qreg q0[3];\n",
      "creg c0[3];\n",
      "h q0[0];\n",
      "h q0[1];\n",
      "h q0[2];\n",
      "barrier q0[0],q0[1],q0[2];\n",
      "measure q0[0] -> c0[0];\n",
      "measure q0[1] -> c0[1];\n",
      "measure q0[2] -> c0[2];\n",
      "\n"
     ]
    }
   ],
   "source": [
    "# For completeness, let's see what the openqasm code looks like. \n",
    "QASM_source = qc.qasm()\n",
    "print(QASM_source)"
   ]
  },
  {
   "cell_type": "code",
   "execution_count": 6,
   "metadata": {},
   "outputs": [
    {
     "data": {
      "text/html": [
       "<pre style=\"word-wrap: normal;white-space: pre;background: #fff0;line-height: 1.1;font-family: &quot;Courier New&quot;,Courier,monospace\">         ┌───┐ ░ ┌─┐      \n",
       "q0_0: |0>┤ H ├─░─┤M├──────\n",
       "         ├───┤ ░ └╥┘┌─┐   \n",
       "q0_1: |0>┤ H ├─░──╫─┤M├───\n",
       "         ├───┤ ░  ║ └╥┘┌─┐\n",
       "q0_2: |0>┤ H ├─░──╫──╫─┤M├\n",
       "         └───┘ ░  ║  ║ └╥┘\n",
       " c0_0: 0 ═════════╩══╬══╬═\n",
       "                     ║  ║ \n",
       " c0_1: 0 ════════════╩══╬═\n",
       "                        ║ \n",
       " c0_2: 0 ═══════════════╩═\n",
       "                          </pre>"
      ],
      "text/plain": [
       "         ┌───┐ ░ ┌─┐      \n",
       "q0_0: |0>┤ H ├─░─┤M├──────\n",
       "         ├───┤ ░ └╥┘┌─┐   \n",
       "q0_1: |0>┤ H ├─░──╫─┤M├───\n",
       "         ├───┤ ░  ║ └╥┘┌─┐\n",
       "q0_2: |0>┤ H ├─░──╫──╫─┤M├\n",
       "         └───┘ ░  ║  ║ └╥┘\n",
       " c0_0: 0 ═════════╩══╬══╬═\n",
       "                     ║  ║ \n",
       " c0_1: 0 ════════════╩══╬═\n",
       "                        ║ \n",
       " c0_2: 0 ═══════════════╩═\n",
       "                          "
      ]
     },
     "execution_count": 6,
     "metadata": {},
     "output_type": "execute_result"
    }
   ],
   "source": [
    "# While we're at it, let's also look at our circuit visually. \n",
    "# This is similar to what we would see in the IBM Q Composer. \n",
    "qc.draw()"
   ]
  },
  {
   "cell_type": "markdown",
   "metadata": {},
   "source": [
    "Now let's run and test out our die. We will run a single shot so to simulate rolling the die on a casino table. \n",
    "\n",
    "Rerun the cell below a few times to see the values of the die change for each roll. "
   ]
  },
  {
   "cell_type": "code",
   "execution_count": 7,
   "metadata": {},
   "outputs": [
    {
     "name": "stdout",
     "output_type": "stream",
     "text": [
      "{'110': 1}\n"
     ]
    }
   ],
   "source": [
    "from qiskit import execute\n",
    "job = execute(qc, backend=Aer.get_backend('qasm_simulator'), shots=1)\n",
    "result = job.result().get_counts(qc)\n",
    "print(result)"
   ]
  },
  {
   "cell_type": "markdown",
   "metadata": {},
   "source": [
    "### Create the Target die\n",
    "In this section we will now create the target die, which we will entangle to our source die. \n",
    "To simplify this let's create the second die by adding 3 more qubits. Then the first three qubits we can refer to as the source die, and the second set of three qubits are for the target die. \n",
    "\n",
    "For example, the classical bit result {010111} means that the source die (first three bits from right, LSB) = 111, \n",
    "and the target die (remaing three bits) are the bits to the left of the first three = 010. "
   ]
  },
  {
   "cell_type": "code",
   "execution_count": 11,
   "metadata": {},
   "outputs": [],
   "source": [
    "# load IBM Q account, only if you want to run this on a real device\n",
    "#IBMQ.load_account()"
   ]
  },
  {
   "cell_type": "code",
   "execution_count": 12,
   "metadata": {},
   "outputs": [
    {
     "data": {
      "text/plain": [
       "<qiskit.circuit.instructionset.InstructionSet at 0x1a1f229f60>"
      ]
     },
     "execution_count": 12,
     "metadata": {},
     "output_type": "execute_result"
    }
   ],
   "source": [
    "# First let's double the size of our bit set.\n",
    "bitSize = 3\n",
    "\n",
    "# since we have just two dice, source and target, we will multiply by two.\n",
    "q = QuantumRegister(2*bitSize)\n",
    "c = ClassicalRegister(2*bitSize)\n",
    "# Create a Quantum Circuit, same as before.\n",
    "qc = QuantumCircuit(q, c)\n",
    "\n",
    "# now, just as before, let's set our source die into superposition and measure\n",
    "qc.h(q)\n",
    "qc.barrier(q)\n",
    "qc.measure(q, c)"
   ]
  },
  {
   "cell_type": "code",
   "execution_count": 13,
   "metadata": {},
   "outputs": [
    {
     "name": "stdout",
     "output_type": "stream",
     "text": [
      "OPENQASM 2.0;\n",
      "include \"qelib1.inc\";\n",
      "qreg q1[6];\n",
      "creg c1[6];\n",
      "h q1[0];\n",
      "h q1[1];\n",
      "h q1[2];\n",
      "h q1[3];\n",
      "h q1[4];\n",
      "h q1[5];\n",
      "barrier q1[0],q1[1],q1[2],q1[3],q1[4],q1[5];\n",
      "measure q1[0] -> c1[0];\n",
      "measure q1[1] -> c1[1];\n",
      "measure q1[2] -> c1[2];\n",
      "measure q1[3] -> c1[3];\n",
      "measure q1[4] -> c1[4];\n",
      "measure q1[5] -> c1[5];\n",
      "\n"
     ]
    }
   ],
   "source": [
    "# Review the openqasm code. \n",
    "QASM_source = qc.qasm()\n",
    "print(QASM_source)"
   ]
  },
  {
   "cell_type": "markdown",
   "metadata": {},
   "source": [
    "Note the measure mapping above maps to 6 classic bits, we will view bits 0-2 (first three) as the source, and bits 3-5 (remaining three) as the target. "
   ]
  },
  {
   "cell_type": "code",
   "execution_count": 14,
   "metadata": {},
   "outputs": [
    {
     "data": {
      "text/html": [
       "<pre style=\"word-wrap: normal;white-space: pre;background: #fff0;line-height: 1.1;font-family: &quot;Courier New&quot;,Courier,monospace\">         ┌───┐ ░ ┌─┐               \n",
       "q1_0: |0>┤ H ├─░─┤M├───────────────\n",
       "         ├───┤ ░ └╥┘┌─┐            \n",
       "q1_1: |0>┤ H ├─░──╫─┤M├────────────\n",
       "         ├───┤ ░  ║ └╥┘┌─┐         \n",
       "q1_2: |0>┤ H ├─░──╫──╫─┤M├─────────\n",
       "         ├───┤ ░  ║  ║ └╥┘┌─┐      \n",
       "q1_3: |0>┤ H ├─░──╫──╫──╫─┤M├──────\n",
       "         ├───┤ ░  ║  ║  ║ └╥┘┌─┐   \n",
       "q1_4: |0>┤ H ├─░──╫──╫──╫──╫─┤M├───\n",
       "         ├───┤ ░  ║  ║  ║  ║ └╥┘┌─┐\n",
       "q1_5: |0>┤ H ├─░──╫──╫──╫──╫──╫─┤M├\n",
       "         └───┘ ░  ║  ║  ║  ║  ║ └╥┘\n",
       " c1_0: 0 ═════════╩══╬══╬══╬══╬══╬═\n",
       "                     ║  ║  ║  ║  ║ \n",
       " c1_1: 0 ════════════╩══╬══╬══╬══╬═\n",
       "                        ║  ║  ║  ║ \n",
       " c1_2: 0 ═══════════════╩══╬══╬══╬═\n",
       "                           ║  ║  ║ \n",
       " c1_3: 0 ══════════════════╩══╬══╬═\n",
       "                              ║  ║ \n",
       " c1_4: 0 ═════════════════════╩══╬═\n",
       "                                 ║ \n",
       " c1_5: 0 ════════════════════════╩═\n",
       "                                   </pre>"
      ],
      "text/plain": [
       "         ┌───┐ ░ ┌─┐               \n",
       "q1_0: |0>┤ H ├─░─┤M├───────────────\n",
       "         ├───┤ ░ └╥┘┌─┐            \n",
       "q1_1: |0>┤ H ├─░──╫─┤M├────────────\n",
       "         ├───┤ ░  ║ └╥┘┌─┐         \n",
       "q1_2: |0>┤ H ├─░──╫──╫─┤M├─────────\n",
       "         ├───┤ ░  ║  ║ └╥┘┌─┐      \n",
       "q1_3: |0>┤ H ├─░──╫──╫──╫─┤M├──────\n",
       "         ├───┤ ░  ║  ║  ║ └╥┘┌─┐   \n",
       "q1_4: |0>┤ H ├─░──╫──╫──╫──╫─┤M├───\n",
       "         ├───┤ ░  ║  ║  ║  ║ └╥┘┌─┐\n",
       "q1_5: |0>┤ H ├─░──╫──╫──╫──╫──╫─┤M├\n",
       "         └───┘ ░  ║  ║  ║  ║  ║ └╥┘\n",
       " c1_0: 0 ═════════╩══╬══╬══╬══╬══╬═\n",
       "                     ║  ║  ║  ║  ║ \n",
       " c1_1: 0 ════════════╩══╬══╬══╬══╬═\n",
       "                        ║  ║  ║  ║ \n",
       " c1_2: 0 ═══════════════╩══╬══╬══╬═\n",
       "                           ║  ║  ║ \n",
       " c1_3: 0 ══════════════════╩══╬══╬═\n",
       "                              ║  ║ \n",
       " c1_4: 0 ═════════════════════╩══╬═\n",
       "                                 ║ \n",
       " c1_5: 0 ════════════════════════╩═\n",
       "                                   "
      ]
     },
     "execution_count": 14,
     "metadata": {},
     "output_type": "execute_result"
    }
   ],
   "source": [
    "# Now draw the circuit with a bundled classical register\n",
    "qc.draw()"
   ]
  },
  {
   "cell_type": "markdown",
   "metadata": {},
   "source": [
    "Ok, now that you have built the circuit we are ready to test this out. Run this with one shot and note the results. "
   ]
  },
  {
   "cell_type": "code",
   "execution_count": 15,
   "metadata": {},
   "outputs": [
    {
     "name": "stdout",
     "output_type": "stream",
     "text": [
      "{'111101': 1}\n"
     ]
    }
   ],
   "source": [
    "# We will use the qasm simulator to run this first. \n",
    "# You can then try running it on the real machine and compare the results.\n",
    "job = execute(qc, backend=Aer.get_backend('qasm_simulator'), shots=1)\n",
    "result = job.result().get_counts(qc)\n",
    "print(result)"
   ]
  },
  {
   "cell_type": "markdown",
   "metadata": {},
   "source": [
    "After executing the above, you will note that **each time** you run it, the source and target dice change randomly. This is fine, except this does not yet help with what we need to accomplish our objective. We want to now entangle them so that they are not so random between source and target. \n",
    "In order to do this we need to do two things. \n",
    "\n",
    "1. Only the source die should be random, since this will simulate the random roll of a die. \n",
    "2. Entangle the target die to the source die. "
   ]
  },
  {
   "cell_type": "code",
   "execution_count": 16,
   "metadata": {},
   "outputs": [
    {
     "data": {
      "text/plain": [
       "<qiskit.circuit.instructionset.InstructionSet at 0x1a1f294c50>"
      ]
     },
     "execution_count": 16,
     "metadata": {},
     "output_type": "execute_result"
    }
   ],
   "source": [
    "# First, reset the circuit\n",
    "q = QuantumRegister(2*bitSize)\n",
    "c = ClassicalRegister(2*bitSize)\n",
    "# Create a Quantum Circuit, same as before.\n",
    "qc = QuantumCircuit(q, c)\n",
    "\n",
    "# Set only the source die to random by adding a Hadamard gate to the first three, then\n",
    "# we want to entangle the the first three qubits to the last three qubits. We'll do this using a simple for loop.\n",
    "\n",
    "# Adding h to first three, and cx between source and target\n",
    "for i in range(bitSize):\n",
    "    qc.h(q[i])\n",
    "    qc.cx(q[i], q[i+bitSize])\n",
    "\n",
    "qc.barrier(q)\n",
    "# Measure the full circuit    \n",
    "qc.measure(q, c)"
   ]
  },
  {
   "cell_type": "code",
   "execution_count": 17,
   "metadata": {},
   "outputs": [
    {
     "data": {
      "text/html": [
       "<pre style=\"word-wrap: normal;white-space: pre;background: #fff0;line-height: 1.1;font-family: &quot;Courier New&quot;,Courier,monospace\">         ┌───┐                ░ ┌─┐               \n",
       "q2_0: |0>┤ H ├──■─────────────░─┤M├───────────────\n",
       "         ├───┤  │             ░ └╥┘┌─┐            \n",
       "q2_1: |0>┤ H ├──┼────■────────░──╫─┤M├────────────\n",
       "         ├───┤  │    │        ░  ║ └╥┘┌─┐         \n",
       "q2_2: |0>┤ H ├──┼────┼────■───░──╫──╫─┤M├─────────\n",
       "         └───┘┌─┴─┐  │    │   ░  ║  ║ └╥┘┌─┐      \n",
       "q2_3: |0>─────┤ X ├──┼────┼───░──╫──╫──╫─┤M├──────\n",
       "              └───┘┌─┴─┐  │   ░  ║  ║  ║ └╥┘┌─┐   \n",
       "q2_4: |0>──────────┤ X ├──┼───░──╫──╫──╫──╫─┤M├───\n",
       "                   └───┘┌─┴─┐ ░  ║  ║  ║  ║ └╥┘┌─┐\n",
       "q2_5: |0>───────────────┤ X ├─░──╫──╫──╫──╫──╫─┤M├\n",
       "                        └───┘ ░  ║  ║  ║  ║  ║ └╥┘\n",
       " c2_0: 0 ════════════════════════╩══╬══╬══╬══╬══╬═\n",
       "                                    ║  ║  ║  ║  ║ \n",
       " c2_1: 0 ═══════════════════════════╩══╬══╬══╬══╬═\n",
       "                                       ║  ║  ║  ║ \n",
       " c2_2: 0 ══════════════════════════════╩══╬══╬══╬═\n",
       "                                          ║  ║  ║ \n",
       " c2_3: 0 ═════════════════════════════════╩══╬══╬═\n",
       "                                             ║  ║ \n",
       " c2_4: 0 ════════════════════════════════════╩══╬═\n",
       "                                                ║ \n",
       " c2_5: 0 ═══════════════════════════════════════╩═\n",
       "                                                  </pre>"
      ],
      "text/plain": [
       "         ┌───┐                ░ ┌─┐               \n",
       "q2_0: |0>┤ H ├──■─────────────░─┤M├───────────────\n",
       "         ├───┤  │             ░ └╥┘┌─┐            \n",
       "q2_1: |0>┤ H ├──┼────■────────░──╫─┤M├────────────\n",
       "         ├───┤  │    │        ░  ║ └╥┘┌─┐         \n",
       "q2_2: |0>┤ H ├──┼────┼────■───░──╫──╫─┤M├─────────\n",
       "         └───┘┌─┴─┐  │    │   ░  ║  ║ └╥┘┌─┐      \n",
       "q2_3: |0>─────┤ X ├──┼────┼───░──╫──╫──╫─┤M├──────\n",
       "              └───┘┌─┴─┐  │   ░  ║  ║  ║ └╥┘┌─┐   \n",
       "q2_4: |0>──────────┤ X ├──┼───░──╫──╫──╫──╫─┤M├───\n",
       "                   └───┘┌─┴─┐ ░  ║  ║  ║  ║ └╥┘┌─┐\n",
       "q2_5: |0>───────────────┤ X ├─░──╫──╫──╫──╫──╫─┤M├\n",
       "                        └───┘ ░  ║  ║  ║  ║  ║ └╥┘\n",
       " c2_0: 0 ════════════════════════╩══╬══╬══╬══╬══╬═\n",
       "                                    ║  ║  ║  ║  ║ \n",
       " c2_1: 0 ═══════════════════════════╩══╬══╬══╬══╬═\n",
       "                                       ║  ║  ║  ║ \n",
       " c2_2: 0 ══════════════════════════════╩══╬══╬══╬═\n",
       "                                          ║  ║  ║ \n",
       " c2_3: 0 ═════════════════════════════════╩══╬══╬═\n",
       "                                             ║  ║ \n",
       " c2_4: 0 ════════════════════════════════════╩══╬═\n",
       "                                                ║ \n",
       " c2_5: 0 ═══════════════════════════════════════╩═\n",
       "                                                  "
      ]
     },
     "execution_count": 17,
     "metadata": {},
     "output_type": "execute_result"
    }
   ],
   "source": [
    "# Visualize the circuit\n",
    "qc.draw()"
   ]
  },
  {
   "cell_type": "code",
   "execution_count": 18,
   "metadata": {},
   "outputs": [
    {
     "name": "stdout",
     "output_type": "stream",
     "text": [
      "{'110110': 1}\n"
     ]
    }
   ],
   "source": [
    "# Execute the circuit on the simulator and note the results, \n",
    "# set to just a single shot and run a few times to compare results.\n",
    "job = execute(qc, backend=Aer.get_backend('qasm_simulator'), shots=1)\n",
    "result = job.result().get_counts(qc)\n",
    "print(result)"
   ]
  },
  {
   "cell_type": "markdown",
   "metadata": {},
   "source": [
    "Since we have these dice entangled we should see the results with the source bits (bit 0-2, LSB) and target bits (3-5), and are exactly the same each and every time we execute the experiment. "
   ]
  },
  {
   "cell_type": "markdown",
   "metadata": {},
   "source": [
    "### Challenge\n",
    "Since we don't want the casino to get too suspicious by noticing that two tables always return the same results, we will now update this so that the two dice are entangled, but not result with the same value. \n",
    "\n",
    "In order to do this, we will want the source and target to have \"opposite\" yet predictable values. Easy enough to predict without having to calculate too much.\n",
    "\n",
    "**HINT (Remove if too easy a hint), One idea could be the following:**\n",
    "\n",
    "For example: {101010}\n",
    "Source = 101 \n",
    "Target = 010 \n",
    "\n",
    "Create a circuit which would represent this. "
   ]
  },
  {
   "cell_type": "markdown",
   "metadata": {},
   "source": [
    "### Solution: for workshop lead (Hide cell and code from attendees)\n",
    "Hint: You only need to include 'X'(NOT) gates.\n",
    "\n",
    "Answer: Just add an X-gate before the CNOT on the target qubits."
   ]
  },
  {
   "cell_type": "code",
   "execution_count": 19,
   "metadata": {},
   "outputs": [
    {
     "name": "stdout",
     "output_type": "stream",
     "text": [
      "{'000111': 1}\n"
     ]
    }
   ],
   "source": [
    "bitSize = 3\n",
    "q = QuantumRegister(2*bitSize)\n",
    "c = ClassicalRegister(2*bitSize)\n",
    "qc = QuantumCircuit(q, c)\n",
    "for i in range(bitSize):\n",
    "    qc.h(q[i])\n",
    "    qc.x(q[i+bitSize]) #Solution: Added to differentiate dice\n",
    "    qc.cx(q[i], q[i+bitSize])\n",
    "\n",
    "qc.barrier(q)  \n",
    "qc.measure(q, c)\n",
    "\n",
    "job = execute(qc, backend=Aer.get_backend('qasm_simulator'), shots=1)\n",
    "result = job.result().get_counts(qc)\n",
    "print(result)"
   ]
  },
  {
   "cell_type": "code",
   "execution_count": 20,
   "metadata": {},
   "outputs": [
    {
     "data": {
      "text/html": [
       "<pre style=\"word-wrap: normal;white-space: pre;background: #fff0;line-height: 1.1;font-family: &quot;Courier New&quot;,Courier,monospace\">         ┌───┐                ░ ┌─┐               \n",
       "q3_0: |0>┤ H ├──■─────────────░─┤M├───────────────\n",
       "         ├───┤  │             ░ └╥┘┌─┐            \n",
       "q3_1: |0>┤ H ├──┼────■────────░──╫─┤M├────────────\n",
       "         ├───┤  │    │        ░  ║ └╥┘┌─┐         \n",
       "q3_2: |0>┤ H ├──┼────┼────■───░──╫──╫─┤M├─────────\n",
       "         ├───┤┌─┴─┐  │    │   ░  ║  ║ └╥┘┌─┐      \n",
       "q3_3: |0>┤ X ├┤ X ├──┼────┼───░──╫──╫──╫─┤M├──────\n",
       "         ├───┤└───┘┌─┴─┐  │   ░  ║  ║  ║ └╥┘┌─┐   \n",
       "q3_4: |0>┤ X ├─────┤ X ├──┼───░──╫──╫──╫──╫─┤M├───\n",
       "         ├───┤     └───┘┌─┴─┐ ░  ║  ║  ║  ║ └╥┘┌─┐\n",
       "q3_5: |0>┤ X ├──────────┤ X ├─░──╫──╫──╫──╫──╫─┤M├\n",
       "         └───┘          └───┘ ░  ║  ║  ║  ║  ║ └╥┘\n",
       " c3_0: 0 ════════════════════════╩══╬══╬══╬══╬══╬═\n",
       "                                    ║  ║  ║  ║  ║ \n",
       " c3_1: 0 ═══════════════════════════╩══╬══╬══╬══╬═\n",
       "                                       ║  ║  ║  ║ \n",
       " c3_2: 0 ══════════════════════════════╩══╬══╬══╬═\n",
       "                                          ║  ║  ║ \n",
       " c3_3: 0 ═════════════════════════════════╩══╬══╬═\n",
       "                                             ║  ║ \n",
       " c3_4: 0 ════════════════════════════════════╩══╬═\n",
       "                                                ║ \n",
       " c3_5: 0 ═══════════════════════════════════════╩═\n",
       "                                                  </pre>"
      ],
      "text/plain": [
       "         ┌───┐                ░ ┌─┐               \n",
       "q3_0: |0>┤ H ├──■─────────────░─┤M├───────────────\n",
       "         ├───┤  │             ░ └╥┘┌─┐            \n",
       "q3_1: |0>┤ H ├──┼────■────────░──╫─┤M├────────────\n",
       "         ├───┤  │    │        ░  ║ └╥┘┌─┐         \n",
       "q3_2: |0>┤ H ├──┼────┼────■───░──╫──╫─┤M├─────────\n",
       "         ├───┤┌─┴─┐  │    │   ░  ║  ║ └╥┘┌─┐      \n",
       "q3_3: |0>┤ X ├┤ X ├──┼────┼───░──╫──╫──╫─┤M├──────\n",
       "         ├───┤└───┘┌─┴─┐  │   ░  ║  ║  ║ └╥┘┌─┐   \n",
       "q3_4: |0>┤ X ├─────┤ X ├──┼───░──╫──╫──╫──╫─┤M├───\n",
       "         ├───┤     └───┘┌─┴─┐ ░  ║  ║  ║  ║ └╥┘┌─┐\n",
       "q3_5: |0>┤ X ├──────────┤ X ├─░──╫──╫──╫──╫──╫─┤M├\n",
       "         └───┘          └───┘ ░  ║  ║  ║  ║  ║ └╥┘\n",
       " c3_0: 0 ════════════════════════╩══╬══╬══╬══╬══╬═\n",
       "                                    ║  ║  ║  ║  ║ \n",
       " c3_1: 0 ═══════════════════════════╩══╬══╬══╬══╬═\n",
       "                                       ║  ║  ║  ║ \n",
       " c3_2: 0 ══════════════════════════════╩══╬══╬══╬═\n",
       "                                          ║  ║  ║ \n",
       " c3_3: 0 ═════════════════════════════════╩══╬══╬═\n",
       "                                             ║  ║ \n",
       " c3_4: 0 ════════════════════════════════════╩══╬═\n",
       "                                                ║ \n",
       " c3_5: 0 ═══════════════════════════════════════╩═\n",
       "                                                  "
      ]
     },
     "execution_count": 20,
     "metadata": {},
     "output_type": "execute_result"
    }
   ],
   "source": [
    "# Visualize the circuit\n",
    "qc.draw()"
   ]
  },
  {
   "cell_type": "markdown",
   "metadata": {},
   "source": [
    "## Congratulations!! You have just completed the first challenge! "
   ]
  },
  {
   "cell_type": "code",
   "execution_count": 21,
   "metadata": {},
   "outputs": [
    {
     "data": {
      "text/html": [
       "<h3>Version Information</h3><table><tr><th>Qiskit Software</th><th>Version</th></tr><tr><td>Qiskit</td><td>0.16.2</td></tr><tr><td>Terra</td><td>0.12.0</td></tr><tr><td>Aer</td><td>0.4.1</td></tr><tr><td>Ignis</td><td>0.2.0</td></tr><tr><td>Aqua</td><td>0.6.5</td></tr><tr><td>IBM Q Provider</td><td>0.5.0</td></tr><tr><th>System information</th></tr><tr><td>Python</td><td>3.7.3 (default, Mar 27 2019, 16:54:48) \n",
       "[Clang 4.0.1 (tags/RELEASE_401/final)]</td></tr><tr><td>OS</td><td>Darwin</td></tr><tr><td>CPUs</td><td>6</td></tr><tr><td>Memory (Gb)</td><td>16.0</td></tr><tr><td colspan='2'>Thu Apr 16 00:58:55 2020 EDT</td></tr></table>"
      ],
      "text/plain": [
       "<IPython.core.display.HTML object>"
      ]
     },
     "metadata": {},
     "output_type": "display_data"
    }
   ],
   "source": [
    "import qiskit.tools.jupyter\n",
    "%qiskit_version_table"
   ]
  },
  {
   "cell_type": "code",
   "execution_count": null,
   "metadata": {},
   "outputs": [],
   "source": []
  }
 ],
 "metadata": {
  "kernelspec": {
   "display_name": "Python 3",
   "language": "python",
   "name": "python3"
  },
  "language_info": {
   "codemirror_mode": {
    "name": "ipython",
    "version": 3
   },
   "file_extension": ".py",
   "mimetype": "text/x-python",
   "name": "python",
   "nbconvert_exporter": "python",
   "pygments_lexer": "ipython3",
   "version": "3.7.3"
  }
 },
 "nbformat": 4,
 "nbformat_minor": 2
}
